{
 "cells": [
  {
   "cell_type": "markdown",
   "metadata": {},
   "source": [
    "# Setup"
   ]
  },
  {
   "cell_type": "code",
   "execution_count": 1,
   "metadata": {},
   "outputs": [],
   "source": [
    "import pyral as rl\n",
    "import pandas as pds\n",
    "import numpy as np\n",
    "from IPython.display import display, Markdown\n",
    "\n",
    "def markdown(txt):\n",
    "    display(Markdown(txt))\n",
    "\n",
    "server = \"rally1.rallydev.com\"\n",
    "user = \"przemyslaw.kadela@sabre.com\"\n",
    "workspace = \"Sabre Production Workspace\"\n",
    "apikey = \"_HD3HAAWlR4KiB63cDdlYzssaKrhSEEyv6N325XjKEw\"\n",
    "\n",
    "\n",
    "#project = \"Naos (TDS-KRK)\"   \n",
    "#project = \"OrderSvc-KRK-TEAM2-IFS-45387011\"   \n",
    "project = \"Access Guardians\"   \n",
    "\n",
    "current_quarter = '2021Q1'\n",
    "next_quarter = '2021Q2'\n",
    "\n",
    "iteration_weights = [0.0, 12.0, 10.0, 4.0, 3.0, 1.0, 1.0]"
   ]
  },
  {
   "cell_type": "markdown",
   "metadata": {},
   "source": [
    "# Establishing connection to Rally"
   ]
  },
  {
   "cell_type": "code",
   "execution_count": 2,
   "metadata": {},
   "outputs": [],
   "source": [
    "rally = rl.Rally(server,user, apikey=apikey, workspace=workspace, project=project)"
   ]
  },
  {
   "cell_type": "markdown",
   "metadata": {},
   "source": [
    "# Fetching iteration data"
   ]
  },
  {
   "cell_type": "code",
   "execution_count": 3,
   "metadata": {},
   "outputs": [
    {
     "name": "stdout",
     "output_type": "stream",
     "text": [
      "Past Iterations: ['S04#2021-02-10/02-23', 'S05#2021-02-24/03-09', 'S06#2021-03-10/03-23']\n",
      "Future Iterations: ['S08#2021-04-07/04-20', 'S09#2021-04-21/05-04', 'S10#2021-05-05/05-18', 'S11#2021-05-19/06-01', 'S12#2021-06-02/06-15', 'S13#2021-06-16/06-29']\n"
     ]
    }
   ],
   "source": [
    "response = rally.get(\"Iteration\", query=r'((StartDate >= \"today-56\") AND (StartDate < \"today-14\"))', fetch=False)\n",
    "past_iterations = [d.Name for d in response]\n",
    "\n",
    "response = rally.get(\"Iteration\", query=r'StartDate > \"today\"', fetch=False)\n",
    "future_iterations = [d.Name for d in response][0:6]\n",
    "\n",
    "print(\"Past Iterations:\", past_iterations)\n",
    "print(\"Future Iterations:\", future_iterations)"
   ]
  },
  {
   "cell_type": "markdown",
   "metadata": {},
   "source": [
    "# Fetching user stories for current and next quarter under commited FEA"
   ]
  },
  {
   "cell_type": "code",
   "execution_count": 4,
   "metadata": {},
   "outputs": [
    {
     "name": "stdout",
     "output_type": "stream",
     "text": [
      "Query: (((TeamFeature.Parent.ProductRoadmapQuarter = \"2021Q1\") OR (TeamFeature.Parent.ProductRoadmapQuarter = \"2021Q2\")) AND (TeamFeature.Parent.ProductRoadmapQuarterStatus = \"Committed\"))\n"
     ]
    },
    {
     "data": {
      "text/html": [
       "<div>\n",
       "<style scoped>\n",
       "    .dataframe tbody tr th:only-of-type {\n",
       "        vertical-align: middle;\n",
       "    }\n",
       "\n",
       "    .dataframe tbody tr th {\n",
       "        vertical-align: top;\n",
       "    }\n",
       "\n",
       "    .dataframe thead th {\n",
       "        text-align: right;\n",
       "    }\n",
       "</style>\n",
       "<table border=\"1\" class=\"dataframe\">\n",
       "  <thead>\n",
       "    <tr style=\"text-align: right;\">\n",
       "      <th></th>\n",
       "      <th>Id</th>\n",
       "      <th>Title</th>\n",
       "      <th>State</th>\n",
       "      <th>Estimate</th>\n",
       "      <th>Iteration</th>\n",
       "      <th>Quarter</th>\n",
       "    </tr>\n",
       "  </thead>\n",
       "  <tbody>\n",
       "    <tr>\n",
       "      <th>0</th>\n",
       "      <td>US92358</td>\n",
       "      <td>Perform Code Review clean up for ES-2.0</td>\n",
       "      <td>Idea</td>\n",
       "      <td>NaN</td>\n",
       "      <td>-</td>\n",
       "      <td>?</td>\n",
       "    </tr>\n",
       "    <tr>\n",
       "      <th>1</th>\n",
       "      <td>US92359</td>\n",
       "      <td>Add request type restrictions on MOM services</td>\n",
       "      <td>Idea</td>\n",
       "      <td>NaN</td>\n",
       "      <td>-</td>\n",
       "      <td>?</td>\n",
       "    </tr>\n",
       "    <tr>\n",
       "      <th>2</th>\n",
       "      <td>US92360</td>\n",
       "      <td>Create MOM Bootrstrap for metrics using Spring...</td>\n",
       "      <td>Idea</td>\n",
       "      <td>NaN</td>\n",
       "      <td>-</td>\n",
       "      <td>?</td>\n",
       "    </tr>\n",
       "    <tr>\n",
       "      <th>3</th>\n",
       "      <td>US92361</td>\n",
       "      <td>Implement more fine-grained logging using aspects</td>\n",
       "      <td>Idea</td>\n",
       "      <td>NaN</td>\n",
       "      <td>-</td>\n",
       "      <td>?</td>\n",
       "    </tr>\n",
       "    <tr>\n",
       "      <th>4</th>\n",
       "      <td>US92362</td>\n",
       "      <td>Set up uniform logging in Echo</td>\n",
       "      <td>Idea</td>\n",
       "      <td>NaN</td>\n",
       "      <td>-</td>\n",
       "      <td>?</td>\n",
       "    </tr>\n",
       "    <tr>\n",
       "      <th>...</th>\n",
       "      <td>...</td>\n",
       "      <td>...</td>\n",
       "      <td>...</td>\n",
       "      <td>...</td>\n",
       "      <td>...</td>\n",
       "      <td>...</td>\n",
       "    </tr>\n",
       "    <tr>\n",
       "      <th>284</th>\n",
       "      <td>US1105729</td>\n",
       "      <td>Clean packages in WAM CI/CD pipelines</td>\n",
       "      <td>Idea</td>\n",
       "      <td>NaN</td>\n",
       "      <td>S08#2021-04-07/04-20</td>\n",
       "      <td>?</td>\n",
       "    </tr>\n",
       "    <tr>\n",
       "      <th>285</th>\n",
       "      <td>US1105753</td>\n",
       "      <td>Install Pinger patching scripts in PROD</td>\n",
       "      <td>Idea</td>\n",
       "      <td>NaN</td>\n",
       "      <td>S08#2021-04-07/04-20</td>\n",
       "      <td>?</td>\n",
       "    </tr>\n",
       "    <tr>\n",
       "      <th>286</th>\n",
       "      <td>US1105914</td>\n",
       "      <td>Verify delegated admin capabilities in AM 6.0</td>\n",
       "      <td>In-Progress</td>\n",
       "      <td>5.0</td>\n",
       "      <td>S07#2021-03-24/04-06</td>\n",
       "      <td>?</td>\n",
       "    </tr>\n",
       "    <tr>\n",
       "      <th>287</th>\n",
       "      <td>US1111452</td>\n",
       "      <td>Introduce environment based regex to EmailBrid...</td>\n",
       "      <td>Idea</td>\n",
       "      <td>NaN</td>\n",
       "      <td>S08#2021-04-07/04-20</td>\n",
       "      <td>?</td>\n",
       "    </tr>\n",
       "    <tr>\n",
       "      <th>288</th>\n",
       "      <td>US1112087</td>\n",
       "      <td>[ESM] Add missing user credentials into upperc...</td>\n",
       "      <td>Idea</td>\n",
       "      <td>NaN</td>\n",
       "      <td>S08#2021-04-07/04-20</td>\n",
       "      <td>?</td>\n",
       "    </tr>\n",
       "  </tbody>\n",
       "</table>\n",
       "<p>289 rows × 6 columns</p>\n",
       "</div>"
      ],
      "text/plain": [
       "            Id                                              Title  \\\n",
       "0      US92358            Perform Code Review clean up for ES-2.0   \n",
       "1      US92359      Add request type restrictions on MOM services   \n",
       "2      US92360  Create MOM Bootrstrap for metrics using Spring...   \n",
       "3      US92361  Implement more fine-grained logging using aspects   \n",
       "4      US92362                     Set up uniform logging in Echo   \n",
       "..         ...                                                ...   \n",
       "284  US1105729              Clean packages in WAM CI/CD pipelines   \n",
       "285  US1105753            Install Pinger patching scripts in PROD   \n",
       "286  US1105914      Verify delegated admin capabilities in AM 6.0   \n",
       "287  US1111452  Introduce environment based regex to EmailBrid...   \n",
       "288  US1112087  [ESM] Add missing user credentials into upperc...   \n",
       "\n",
       "           State  Estimate             Iteration Quarter  \n",
       "0           Idea       NaN                     -       ?  \n",
       "1           Idea       NaN                     -       ?  \n",
       "2           Idea       NaN                     -       ?  \n",
       "3           Idea       NaN                     -       ?  \n",
       "4           Idea       NaN                     -       ?  \n",
       "..           ...       ...                   ...     ...  \n",
       "284         Idea       NaN  S08#2021-04-07/04-20       ?  \n",
       "285         Idea       NaN  S08#2021-04-07/04-20       ?  \n",
       "286  In-Progress       5.0  S07#2021-03-24/04-06       ?  \n",
       "287         Idea       NaN  S08#2021-04-07/04-20       ?  \n",
       "288         Idea       NaN  S08#2021-04-07/04-20       ?  \n",
       "\n",
       "[289 rows x 6 columns]"
      ]
     },
     "execution_count": 4,
     "metadata": {},
     "output_type": "execute_result"
    }
   ],
   "source": [
    "user_story_query = ( '('\n",
    "    + f'((TeamFeature.Parent.ProductRoadmapQuarter = \"{current_quarter}\") OR (TeamFeature.Parent.ProductRoadmapQuarter = \"{next_quarter}\")) '\n",
    "    + f'AND (TeamFeature.Parent.ProductRoadmapQuarterStatus = \"Committed\")' \n",
    "    + ')' )\n",
    "print(\"Query:\", user_story_query)\n",
    "\n",
    "response = rally.get(\"User Story\", query=user_story_query, fetch=True) \n",
    "user_story_data = [(x.FormattedID, x.Name, x.ScheduleState, x.PlanEstimate, x.Iteration.Name if x.Iteration else \"-\", \"?\") for x in response]\n",
    "\n",
    "frm_user_stories = pds.DataFrame(user_story_data, columns=['Id', 'Title', 'State', 'Estimate', 'Iteration', 'Quarter'])\n",
    "frm_user_stories"
   ]
  },
  {
   "cell_type": "markdown",
   "metadata": {},
   "source": [
    "# Historical Data"
   ]
  },
  {
   "cell_type": "code",
   "execution_count": 5,
   "metadata": {},
   "outputs": [
    {
     "data": {
      "text/markdown": [
       "## History Data Metrics"
      ],
      "text/plain": [
       "<IPython.core.display.Markdown object>"
      ]
     },
     "metadata": {},
     "output_type": "display_data"
    },
    {
     "data": {
      "text/markdown": [
       "| Metric |   Value   |\n",
       "|-------------------:|:----------|\n",
       "|Average Velocity|32.67 |\n",
       "|Average Throughput|18.00 |\n",
       "|US size median|2.00 |"
      ],
      "text/plain": [
       "<IPython.core.display.Markdown object>"
      ]
     },
     "metadata": {},
     "output_type": "display_data"
    }
   ],
   "source": [
    "frm_history = frm_user_stories[frm_user_stories[\"Iteration\"].isin(past_iterations)]\n",
    "hist_velocities = frm_history[[\"Iteration\", \"Estimate\"]].groupby(\"Iteration\").sum()\n",
    "hist_throughput = frm_history[[\"Iteration\", \"Id\"]].groupby(\"Iteration\").count()\n",
    "\n",
    "hist_average_velocity = np.mean(hist_velocities[\"Estimate\"])\n",
    "hist_average_throughput = np.mean(hist_throughput[\"Id\"])\n",
    "hist_us_size_median = np.median(frm_history[\"Estimate\"])\n",
    "\n",
    "metrics = {\"history\": {\"average_velocity\": hist_average_velocity, \"average_throughput\": hist_average_throughput, \"us_size_median\": hist_us_size_median}}\n",
    "\n",
    "markdown(\"## History Data Metrics\")\n",
    "markdown(\"| Metric |   Value   |\\n\" + \n",
    "        \"|-------------------:|:----------|\\n\" +\n",
    "        f\"|Average Velocity|{hist_average_velocity:.2f} |\\n\" +\n",
    "        f\"|Average Throughput|{hist_average_throughput:.2f} |\\n\" +\n",
    "        f\"|US size median|{hist_us_size_median:.2f} |\" )"
   ]
  },
  {
   "cell_type": "markdown",
   "metadata": {},
   "source": [
    "# Backlog Metrics"
   ]
  },
  {
   "cell_type": "code",
   "execution_count": 7,
   "metadata": {},
   "outputs": [
    {
     "data": {
      "text/markdown": [
       "### Metrics"
      ],
      "text/plain": [
       "<IPython.core.display.Markdown object>"
      ]
     },
     "metadata": {},
     "output_type": "display_data"
    },
    {
     "data": {
      "text/markdown": [
       "| Metric |   Expected   |   Value   |\n",
       "|-------------------:|:----------|:----------|\n",
       "|Backlog Index| 1.9 - 6.5 |**6.28** |\n",
       "|Backlog Count Index| 1.6 - 6.0 |**8.00** |\n",
       "|Work Plan Index| 1.9 - 6.5 |**3.43** |\n",
       "|Work Distribution Index| 0.7 - 1.2 |**1.31** |\n",
       "|US Size Index| 0.7 - 1.1 |**0.26** |\n",
       "| - - - | - - - | - - - |\n",
       "|Backlog Count| - |144 |\n",
       "|Backlog Size (SP)| - |205 |\n"
      ],
      "text/plain": [
       "<IPython.core.display.Markdown object>"
      ]
     },
     "metadata": {},
     "output_type": "display_data"
    }
   ],
   "source": [
    "frm_future = frm_user_stories[frm_user_stories[\"Iteration\"].isin(future_iterations + [\"-\"])]\n",
    "frm_iter_size = frm_future[[\"Iteration\", \"Estimate\"]].groupby(\"Iteration\").sum()\n",
    "frm_iter_count = frm_future[[\"Iteration\", \"Id\"]].groupby(\"Iteration\").count()\n",
    "frm_iter_size[\"CapacityIndex\"] = frm_iter_size[\"Estimate\"] / metrics[\"history\"][\"average_velocity\"]\n",
    "frm_iter_size[\"USCount\"] = frm_iter_count[\"Id\"]\n",
    "\n",
    "\n",
    "backlog_sum = frm_future[\"Estimate\"].sum()\n",
    "backlog_count = frm_future[\"Id\"].count()\n",
    "\n",
    "backlog_index = backlog_sum / metrics[\"history\"][\"average_velocity\"]\n",
    "backlog_count_index = backlog_count / metrics[\"history\"][\"average_throughput\"]\n",
    "work_plan_index = frm_iter_size.query(\"Iteration != '-'\")[\"CapacityIndex\"].sum()\n",
    "\n",
    "fc = frm_future[frm_future[\"Estimate\"] <= metrics[\"history\"][\"us_size_median\"]]\n",
    "us_size_index = 2.0 * fc[\"Id\"].count() / backlog_count\n",
    "\n",
    "fi = future_iterations + [\"-\"]\n",
    "frm_aux = pds.DataFrame([[ 0.0, 0.0, 0]] * len(fi), index=fi, columns=[ \"Estimate\", \"CapacityIndex\", \"USCount\"])\n",
    "frm_aux = frm_iter_size.append(frm_aux).groupby(level=0).sum().sort_index()\n",
    "frm_aux[\"weight\"] = iteration_weights\n",
    "frm_aux[\"value\"] = frm_aux[\"weight\"] * frm_aux[\"CapacityIndex\"]\n",
    "\n",
    "work_distribution_index = frm_aux[\"value\"].sum() / frm_aux[\"weight\"].sum()\n",
    "\n",
    "markdown(\"### Metrics\")\n",
    "markdown(\"| Metric |   Expected   |   Value   |\\n\" + \n",
    "        \"|-------------------:|:----------|:----------|\\n\" +\n",
    "        f\"|Backlog Index| 1.9 - 6.5 |**{backlog_index:.2f}** |\\n\" +\n",
    "        f\"|Backlog Count Index| 1.6 - 6.0 |**{backlog_count_index:.2f}** |\\n\" +\n",
    "        f\"|Work Plan Index| 1.9 - 6.5 |**{work_plan_index:.2f}** |\\n\" +\n",
    "        f\"|Work Distribution Index| 0.7 - 1.2 |**{work_distribution_index:.2f}** |\\n\" +\n",
    "        f\"|US Size Index| 0.7 - 1.1 |**{us_size_index:.2f}** |\\n\" +\n",
    "        f\"| - - - | - - - | - - - |\\n\" +\n",
    "        f\"|Backlog Count| - |{backlog_count:.0f} |\\n\" +\n",
    "        f\"|Backlog Size (SP)| - |{backlog_sum:.0f} |\\n\"  )\n"
   ]
  },
  {
   "cell_type": "code",
   "execution_count": null,
   "metadata": {},
   "outputs": [],
   "source": []
  }
 ],
 "metadata": {
  "kernelspec": {
   "display_name": "Python 3",
   "language": "python",
   "name": "python3"
  },
  "language_info": {
   "codemirror_mode": {
    "name": "ipython",
    "version": 3
   },
   "file_extension": ".py",
   "mimetype": "text/x-python",
   "name": "python",
   "nbconvert_exporter": "python",
   "pygments_lexer": "ipython3",
   "version": "3.9.0"
  }
 },
 "nbformat": 4,
 "nbformat_minor": 4
}
